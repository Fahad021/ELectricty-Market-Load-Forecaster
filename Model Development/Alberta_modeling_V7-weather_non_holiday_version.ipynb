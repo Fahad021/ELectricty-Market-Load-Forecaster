{
 "cells": [
  {
   "cell_type": "code",
   "execution_count": 40,
   "metadata": {},
   "outputs": [
    {
     "data": {
      "text/html": [
       "<div>\n",
       "<style scoped>\n",
       "    .dataframe tbody tr th:only-of-type {\n",
       "        vertical-align: middle;\n",
       "    }\n",
       "\n",
       "    .dataframe tbody tr th {\n",
       "        vertical-align: top;\n",
       "    }\n",
       "\n",
       "    .dataframe thead th {\n",
       "        text-align: right;\n",
       "    }\n",
       "</style>\n",
       "<table border=\"1\" class=\"dataframe\">\n",
       "  <thead>\n",
       "    <tr style=\"text-align: right;\">\n",
       "      <th></th>\n",
       "      <th>Datetime</th>\n",
       "      <th>AIL</th>\n",
       "      <th>trend</th>\n",
       "      <th>hour_of_day</th>\n",
       "      <th>just_date</th>\n",
       "      <th>day</th>\n",
       "      <th>hour_x_day</th>\n",
       "      <th>sin.day</th>\n",
       "      <th>cos.day</th>\n",
       "      <th>sin.hour</th>\n",
       "      <th>...</th>\n",
       "      <th>temp_ftmcmry</th>\n",
       "      <th>wind_ftmcmry</th>\n",
       "      <th>temp_lthbrg</th>\n",
       "      <th>wind_lthbrg</th>\n",
       "      <th>temp_mdcnht</th>\n",
       "      <th>wind_mdcnht</th>\n",
       "      <th>temp_rddr</th>\n",
       "      <th>wind_rddr</th>\n",
       "      <th>temp_slvlk</th>\n",
       "      <th>wind_slvlk</th>\n",
       "    </tr>\n",
       "  </thead>\n",
       "  <tbody>\n",
       "    <tr>\n",
       "      <th>0</th>\n",
       "      <td>2019-01-01 00:00:00</td>\n",
       "      <td>10008.0</td>\n",
       "      <td>1</td>\n",
       "      <td>0</td>\n",
       "      <td>2019-01-01</td>\n",
       "      <td>1</td>\n",
       "      <td>0</td>\n",
       "      <td>0.017213</td>\n",
       "      <td>0.999852</td>\n",
       "      <td>0.000000</td>\n",
       "      <td>...</td>\n",
       "      <td>-18.1</td>\n",
       "      <td>11</td>\n",
       "      <td>-11.8</td>\n",
       "      <td>NaN</td>\n",
       "      <td>-12.4</td>\n",
       "      <td>NaN</td>\n",
       "      <td>-15.2</td>\n",
       "      <td>11.0</td>\n",
       "      <td>-14.4</td>\n",
       "      <td>8.0</td>\n",
       "    </tr>\n",
       "    <tr>\n",
       "      <th>1</th>\n",
       "      <td>2019-01-01 01:00:00</td>\n",
       "      <td>9868.0</td>\n",
       "      <td>2</td>\n",
       "      <td>1</td>\n",
       "      <td>2019-01-01</td>\n",
       "      <td>1</td>\n",
       "      <td>1</td>\n",
       "      <td>0.017213</td>\n",
       "      <td>0.999852</td>\n",
       "      <td>0.258819</td>\n",
       "      <td>...</td>\n",
       "      <td>-17.0</td>\n",
       "      <td>9</td>\n",
       "      <td>-10.7</td>\n",
       "      <td>NaN</td>\n",
       "      <td>-12.5</td>\n",
       "      <td>NaN</td>\n",
       "      <td>-13.3</td>\n",
       "      <td>5.0</td>\n",
       "      <td>-13.6</td>\n",
       "      <td>5.0</td>\n",
       "    </tr>\n",
       "    <tr>\n",
       "      <th>2</th>\n",
       "      <td>2019-01-01 02:00:00</td>\n",
       "      <td>9736.0</td>\n",
       "      <td>3</td>\n",
       "      <td>2</td>\n",
       "      <td>2019-01-01</td>\n",
       "      <td>1</td>\n",
       "      <td>2</td>\n",
       "      <td>0.017213</td>\n",
       "      <td>0.999852</td>\n",
       "      <td>0.500000</td>\n",
       "      <td>...</td>\n",
       "      <td>-15.2</td>\n",
       "      <td>8</td>\n",
       "      <td>-8.5</td>\n",
       "      <td>NaN</td>\n",
       "      <td>-11.8</td>\n",
       "      <td>NaN</td>\n",
       "      <td>-11.8</td>\n",
       "      <td>13.0</td>\n",
       "      <td>-12.9</td>\n",
       "      <td>5.0</td>\n",
       "    </tr>\n",
       "    <tr>\n",
       "      <th>3</th>\n",
       "      <td>2019-01-01 03:00:00</td>\n",
       "      <td>9597.0</td>\n",
       "      <td>4</td>\n",
       "      <td>3</td>\n",
       "      <td>2019-01-01</td>\n",
       "      <td>1</td>\n",
       "      <td>3</td>\n",
       "      <td>0.017213</td>\n",
       "      <td>0.999852</td>\n",
       "      <td>0.707107</td>\n",
       "      <td>...</td>\n",
       "      <td>-13.2</td>\n",
       "      <td>12</td>\n",
       "      <td>-6.7</td>\n",
       "      <td>NaN</td>\n",
       "      <td>-10.6</td>\n",
       "      <td>NaN</td>\n",
       "      <td>-10.2</td>\n",
       "      <td>14.0</td>\n",
       "      <td>-14.1</td>\n",
       "      <td>5.0</td>\n",
       "    </tr>\n",
       "    <tr>\n",
       "      <th>4</th>\n",
       "      <td>2019-01-01 04:00:00</td>\n",
       "      <td>9530.0</td>\n",
       "      <td>5</td>\n",
       "      <td>4</td>\n",
       "      <td>2019-01-01</td>\n",
       "      <td>1</td>\n",
       "      <td>4</td>\n",
       "      <td>0.017213</td>\n",
       "      <td>0.999852</td>\n",
       "      <td>0.866025</td>\n",
       "      <td>...</td>\n",
       "      <td>-11.5</td>\n",
       "      <td>9</td>\n",
       "      <td>-3.6</td>\n",
       "      <td>NaN</td>\n",
       "      <td>-8.1</td>\n",
       "      <td>NaN</td>\n",
       "      <td>-8.8</td>\n",
       "      <td>17.0</td>\n",
       "      <td>-12.2</td>\n",
       "      <td>5.0</td>\n",
       "    </tr>\n",
       "    <tr>\n",
       "      <th>...</th>\n",
       "      <td>...</td>\n",
       "      <td>...</td>\n",
       "      <td>...</td>\n",
       "      <td>...</td>\n",
       "      <td>...</td>\n",
       "      <td>...</td>\n",
       "      <td>...</td>\n",
       "      <td>...</td>\n",
       "      <td>...</td>\n",
       "      <td>...</td>\n",
       "      <td>...</td>\n",
       "      <td>...</td>\n",
       "      <td>...</td>\n",
       "      <td>...</td>\n",
       "      <td>...</td>\n",
       "      <td>...</td>\n",
       "      <td>...</td>\n",
       "      <td>...</td>\n",
       "      <td>...</td>\n",
       "      <td>...</td>\n",
       "      <td>...</td>\n",
       "    </tr>\n",
       "    <tr>\n",
       "      <th>18505</th>\n",
       "      <td>2021-02-10 19:00:00</td>\n",
       "      <td>11485.0</td>\n",
       "      <td>18524</td>\n",
       "      <td>19</td>\n",
       "      <td>2021-02-10</td>\n",
       "      <td>41</td>\n",
       "      <td>779</td>\n",
       "      <td>0.648630</td>\n",
       "      <td>0.761104</td>\n",
       "      <td>-0.965926</td>\n",
       "      <td>...</td>\n",
       "      <td>-29.0</td>\n",
       "      <td>20</td>\n",
       "      <td>-27.0</td>\n",
       "      <td>20.0</td>\n",
       "      <td>-27.0</td>\n",
       "      <td>20.0</td>\n",
       "      <td>-30.0</td>\n",
       "      <td>20.0</td>\n",
       "      <td>-26.0</td>\n",
       "      <td>10.0</td>\n",
       "    </tr>\n",
       "    <tr>\n",
       "      <th>18506</th>\n",
       "      <td>2021-02-10 20:00:00</td>\n",
       "      <td>11364.0</td>\n",
       "      <td>18525</td>\n",
       "      <td>20</td>\n",
       "      <td>2021-02-10</td>\n",
       "      <td>41</td>\n",
       "      <td>820</td>\n",
       "      <td>0.648630</td>\n",
       "      <td>0.761104</td>\n",
       "      <td>-0.866025</td>\n",
       "      <td>...</td>\n",
       "      <td>-30.0</td>\n",
       "      <td>20</td>\n",
       "      <td>-28.0</td>\n",
       "      <td>20.0</td>\n",
       "      <td>-28.0</td>\n",
       "      <td>20.0</td>\n",
       "      <td>-31.0</td>\n",
       "      <td>20.0</td>\n",
       "      <td>-27.0</td>\n",
       "      <td>10.0</td>\n",
       "    </tr>\n",
       "    <tr>\n",
       "      <th>18507</th>\n",
       "      <td>2021-02-10 21:00:00</td>\n",
       "      <td>11195.0</td>\n",
       "      <td>18526</td>\n",
       "      <td>21</td>\n",
       "      <td>2021-02-10</td>\n",
       "      <td>41</td>\n",
       "      <td>861</td>\n",
       "      <td>0.648630</td>\n",
       "      <td>0.761104</td>\n",
       "      <td>-0.707107</td>\n",
       "      <td>...</td>\n",
       "      <td>-31.0</td>\n",
       "      <td>10</td>\n",
       "      <td>-31.0</td>\n",
       "      <td>10.0</td>\n",
       "      <td>-29.0</td>\n",
       "      <td>10.0</td>\n",
       "      <td>-32.0</td>\n",
       "      <td>10.0</td>\n",
       "      <td>-28.0</td>\n",
       "      <td>10.0</td>\n",
       "    </tr>\n",
       "    <tr>\n",
       "      <th>18508</th>\n",
       "      <td>2021-02-10 22:00:00</td>\n",
       "      <td>10961.0</td>\n",
       "      <td>18527</td>\n",
       "      <td>22</td>\n",
       "      <td>2021-02-10</td>\n",
       "      <td>41</td>\n",
       "      <td>902</td>\n",
       "      <td>0.648630</td>\n",
       "      <td>0.761104</td>\n",
       "      <td>-0.500000</td>\n",
       "      <td>...</td>\n",
       "      <td>-32.0</td>\n",
       "      <td>10</td>\n",
       "      <td>-31.0</td>\n",
       "      <td>10.0</td>\n",
       "      <td>-29.0</td>\n",
       "      <td>10.0</td>\n",
       "      <td>-33.0</td>\n",
       "      <td>10.0</td>\n",
       "      <td>-29.0</td>\n",
       "      <td>10.0</td>\n",
       "    </tr>\n",
       "    <tr>\n",
       "      <th>18509</th>\n",
       "      <td>2021-02-10 23:00:00</td>\n",
       "      <td>10839.0</td>\n",
       "      <td>18528</td>\n",
       "      <td>23</td>\n",
       "      <td>2021-02-10</td>\n",
       "      <td>41</td>\n",
       "      <td>943</td>\n",
       "      <td>0.648630</td>\n",
       "      <td>0.761104</td>\n",
       "      <td>-0.258819</td>\n",
       "      <td>...</td>\n",
       "      <td>-33.0</td>\n",
       "      <td>10</td>\n",
       "      <td>-32.0</td>\n",
       "      <td>10.0</td>\n",
       "      <td>-30.0</td>\n",
       "      <td>10.0</td>\n",
       "      <td>-34.0</td>\n",
       "      <td>10.0</td>\n",
       "      <td>-30.0</td>\n",
       "      <td>10.0</td>\n",
       "    </tr>\n",
       "  </tbody>\n",
       "</table>\n",
       "<p>18510 rows × 39 columns</p>\n",
       "</div>"
      ],
      "text/plain": [
       "                  Datetime      AIL  trend  hour_of_day   just_date  day  \\\n",
       "0      2019-01-01 00:00:00  10008.0      1            0  2019-01-01    1   \n",
       "1      2019-01-01 01:00:00   9868.0      2            1  2019-01-01    1   \n",
       "2      2019-01-01 02:00:00   9736.0      3            2  2019-01-01    1   \n",
       "3      2019-01-01 03:00:00   9597.0      4            3  2019-01-01    1   \n",
       "4      2019-01-01 04:00:00   9530.0      5            4  2019-01-01    1   \n",
       "...                    ...      ...    ...          ...         ...  ...   \n",
       "18505  2021-02-10 19:00:00  11485.0  18524           19  2021-02-10   41   \n",
       "18506  2021-02-10 20:00:00  11364.0  18525           20  2021-02-10   41   \n",
       "18507  2021-02-10 21:00:00  11195.0  18526           21  2021-02-10   41   \n",
       "18508  2021-02-10 22:00:00  10961.0  18527           22  2021-02-10   41   \n",
       "18509  2021-02-10 23:00:00  10839.0  18528           23  2021-02-10   41   \n",
       "\n",
       "       hour_x_day   sin.day   cos.day  sin.hour  ...  temp_ftmcmry  \\\n",
       "0               0  0.017213  0.999852  0.000000  ...         -18.1   \n",
       "1               1  0.017213  0.999852  0.258819  ...         -17.0   \n",
       "2               2  0.017213  0.999852  0.500000  ...         -15.2   \n",
       "3               3  0.017213  0.999852  0.707107  ...         -13.2   \n",
       "4               4  0.017213  0.999852  0.866025  ...         -11.5   \n",
       "...           ...       ...       ...       ...  ...           ...   \n",
       "18505         779  0.648630  0.761104 -0.965926  ...         -29.0   \n",
       "18506         820  0.648630  0.761104 -0.866025  ...         -30.0   \n",
       "18507         861  0.648630  0.761104 -0.707107  ...         -31.0   \n",
       "18508         902  0.648630  0.761104 -0.500000  ...         -32.0   \n",
       "18509         943  0.648630  0.761104 -0.258819  ...         -33.0   \n",
       "\n",
       "       wind_ftmcmry  temp_lthbrg  wind_lthbrg  temp_mdcnht  wind_mdcnht  \\\n",
       "0                11        -11.8          NaN        -12.4          NaN   \n",
       "1                 9        -10.7          NaN        -12.5          NaN   \n",
       "2                 8         -8.5          NaN        -11.8          NaN   \n",
       "3                12         -6.7          NaN        -10.6          NaN   \n",
       "4                 9         -3.6          NaN         -8.1          NaN   \n",
       "...             ...          ...          ...          ...          ...   \n",
       "18505            20        -27.0         20.0        -27.0         20.0   \n",
       "18506            20        -28.0         20.0        -28.0         20.0   \n",
       "18507            10        -31.0         10.0        -29.0         10.0   \n",
       "18508            10        -31.0         10.0        -29.0         10.0   \n",
       "18509            10        -32.0         10.0        -30.0         10.0   \n",
       "\n",
       "       temp_rddr  wind_rddr  temp_slvlk  wind_slvlk  \n",
       "0          -15.2       11.0       -14.4         8.0  \n",
       "1          -13.3        5.0       -13.6         5.0  \n",
       "2          -11.8       13.0       -12.9         5.0  \n",
       "3          -10.2       14.0       -14.1         5.0  \n",
       "4           -8.8       17.0       -12.2         5.0  \n",
       "...          ...        ...         ...         ...  \n",
       "18505      -30.0       20.0       -26.0        10.0  \n",
       "18506      -31.0       20.0       -27.0        10.0  \n",
       "18507      -32.0       10.0       -28.0        10.0  \n",
       "18508      -33.0       10.0       -29.0        10.0  \n",
       "18509      -34.0       10.0       -30.0        10.0  \n",
       "\n",
       "[18510 rows x 39 columns]"
      ]
     },
     "execution_count": 40,
     "metadata": {},
     "output_type": "execute_result"
    }
   ],
   "source": [
    "import pandas as pd\n",
    "\n",
    "df = pd.read_csv('new_training_data_v7_2019_2020_feb_13_20201.csv').iloc[:,1:]\n",
    "df"
   ]
  },
  {
   "cell_type": "code",
   "execution_count": 41,
   "metadata": {},
   "outputs": [
    {
     "data": {
      "text/plain": [
       "Index(['Datetime', 'AIL', 'trend', 'hour_of_day', 'just_date', 'day',\n",
       "       'hour_x_day', 'sin.day', 'cos.day', 'sin.hour', 'cos.hour', 'sin.trend',\n",
       "       'cos.trend', 'weekend', 'month', 'year', 'sunlight_avaialbility',\n",
       "       'AIL_previous_hour', 'AIL_24h_lagged', 'AIL_2day_lagged',\n",
       "       'AIL_3day_lagged', 'AIL_4day_lagged', 'AIL_5day_lagged',\n",
       "       'AIL_6day_lagged', 'AIL_oneweek_lagged', 'temp_calgary', 'wind_calgary',\n",
       "       'temp_edmonton', 'wind_edmonton', 'temp_ftmcmry', 'wind_ftmcmry',\n",
       "       'temp_lthbrg', 'wind_lthbrg', 'temp_mdcnht', 'wind_mdcnht', 'temp_rddr',\n",
       "       'wind_rddr', 'temp_slvlk', 'wind_slvlk'],\n",
       "      dtype='object')"
      ]
     },
     "execution_count": 41,
     "metadata": {},
     "output_type": "execute_result"
    }
   ],
   "source": [
    "df.columns"
   ]
  },
  {
   "cell_type": "code",
   "execution_count": 37,
   "metadata": {},
   "outputs": [
    {
     "name": "stdout",
     "output_type": "stream",
     "text": [
      "100%|██████████| 100/100 [02:42<00:00,  1.62s/trial, best loss: 0.47869409731897095]\n",
      "{'colsample_bytree': 0.871652215617033, 'gamma': 0.5481113602181227, 'max_depth': 3.0, 'min_child_weight': 6.0, 'n_estimators': 295.0234024637998, 'reg_alpha': 0.0, 'reg_lambda': 0.6831208600800968}\n"
     ]
    }
   ],
   "source": [
    "import numpy as np\n",
    "\n",
    "from xgboost import XGBRegressor\n",
    "from sklearn.model_selection import TimeSeriesSplit\n",
    "from matplotlib import pyplot as plt\n",
    "from sklearn.model_selection import train_test_split\n",
    "from sklearn.preprocessing import MinMaxScaler\n",
    "from datetime import datetime\n",
    "import pickle\n",
    "import hyperopt\n",
    "from hyperopt import fmin, tpe, hp, STATUS_OK, Trials\n",
    "from sklearn.metrics import mean_squared_error, r2_score, mean_absolute_error\n",
    "\n",
    "\n",
    "#df = df.interpolate(method='nearest').ffill().bfill()\n",
    "#df.isnull().sum()\n",
    "\n",
    "\n",
    "\n",
    "\n",
    "#file_name   =  \"feature_v2.pkl\"\n",
    "#open_file   =  open(file_name, \"rb\")\n",
    "#loaded_list =  pickle.load(open_file)\n",
    "#open_file.close()\n",
    "\n",
    "df_hypopt       = df\n",
    "split_date      = '2020-06-01 00:00:00'\n",
    "df_hypopt_train = df_hypopt.loc[df_hypopt.Datetime < split_date].copy()\n",
    "df_hypopt_test  = df_hypopt.loc[df_hypopt.Datetime >= split_date].copy()\n",
    "\n",
    "y_train         = df_hypopt_train['AIL'].values\n",
    "y_test          = df_hypopt_test['AIL'].values\n",
    "X_train         = df_hypopt_train.drop(['Datetime', 'AIL', 'just_date', 'trend', 'sin.trend',\n",
    "                 'cos.trend'], axis = 1).values\n",
    "X_test          = df_hypopt_test.drop (['Datetime', 'AIL', 'just_date', 'trend', 'sin.trend',\n",
    "                 'cos.trend'], axis = 1).values\n",
    "\n",
    "\n",
    "\n",
    "space={ 'max_depth'        : hp.quniform(\"max_depth\", 2, 12, 1),\n",
    "        'gamma'            : hp.uniform ('gamma', 0,1),\n",
    "        'reg_alpha'        : hp.quniform('reg_alpha', 0,2,1),\n",
    "        'reg_lambda'       : hp.uniform('reg_lambda', 0,1),\n",
    "        'colsample_bytree' : hp.uniform('colsample_bytree', 0.5,1),\n",
    "        'min_child_weight' : hp.quniform('min_child_weight', 1, 7, 1),\n",
    "        'n_estimators'     : hp.uniform('n_estimators', 10, 300)\n",
    "    }\n",
    "\n",
    "\n",
    "#def mape(pred, true):\n",
    "#    return np.abs(np.asarray(pred) - np.asarray(true)) / np.maximum(np.abs(np.assarry(true))\n",
    "\n",
    "delta = 10 #huber-delta\n",
    "\n",
    "def optimize (space):\n",
    "    model=XGBRegressor(\n",
    "                       n_estimators     = int(space['n_estimators']), \n",
    "                       max_depth        = int(space['max_depth']),\n",
    "                       gamma            = space['gamma'],\n",
    "                       reg_alpha        = int(space['reg_alpha']),\n",
    "                       min_child_weight = space['min_child_weight'],\n",
    "                       colsample_bytree = space['colsample_bytree'])\n",
    "    \n",
    "    model.fit(X_train, y_train)\n",
    "    train_loss = np.mean(np.abs((y_train - model.predict(X_train)) / y_train)) * 100\n",
    "    # summarize performance\n",
    "    preds     = model.predict(X_test)\n",
    "    #mae       = mean_absolute_error(y_test, preds)\n",
    "    #loss = np.where(np.abs(y_test - preds) < delta, \n",
    "    #                0.5*((y_test - preds)**2),\n",
    "    #                delta*np.abs(y_test-preds) - 0.5*(delta**2)\n",
    "    #               )\n",
    "    loss = np.mean(np.abs((y_test - preds) / y_test)) * 100\n",
    "    print(train_loss, loss)\n",
    "    return loss\n",
    "    \n",
    "trials = Trials()\n",
    "result = fmin(\n",
    "            fn        = optimize,\n",
    "            space     = space,\n",
    "            algo      = tpe.suggest,\n",
    "            max_evals = 100,\n",
    "            trials    = trials\n",
    ")\n",
    "\n",
    "print (result)"
   ]
  },
  {
   "cell_type": "code",
   "execution_count": 39,
   "metadata": {},
   "outputs": [
    {
     "name": "stdout",
     "output_type": "stream",
     "text": [
      "9.948938119479434\n"
     ]
    },
    {
     "data": {
      "text/plain": [
       "['model_generated_on_13_2_2021_v7_non_holiday_mape_loss.joblib.dat']"
      ]
     },
     "execution_count": 39,
     "metadata": {},
     "output_type": "execute_result"
    }
   ],
   "source": [
    "import numpy as np\n",
    "import pandas as pd\n",
    "from xgboost import XGBRegressor\n",
    "from datetime import datetime\n",
    "import joblib\n",
    "from joblib import dump\n",
    "\n",
    "column_list = ['hour_of_day',  'day',\n",
    "       'hour_x_day', 'sin.day', 'cos.day', 'sin.hour', 'cos.hour', \n",
    "        'weekend', 'month', 'year', 'sunlight_avaialbility',\n",
    "       'AIL_previous_hour', 'AIL_24h_lagged', 'AIL_2day_lagged',\n",
    "       'AIL_3day_lagged', 'AIL_4day_lagged', 'AIL_5day_lagged',\n",
    "       'AIL_6day_lagged', 'AIL_oneweek_lagged', 'temp_calgary', 'wind_calgary',\n",
    "       'temp_edmonton', 'wind_edmonton', 'temp_ftmcmry', 'wind_ftmcmry',\n",
    "       'temp_lthbrg', 'wind_lthbrg', 'temp_mdcnht', 'wind_mdcnht', 'temp_rddr',\n",
    "       'wind_rddr', 'temp_slvlk', 'wind_slvlk' ]\n",
    "\n",
    "df_final = pd.DataFrame(data = df)\n",
    "df_final = df_final.interpolate(method='nearest').ffill().bfill()\n",
    "\n",
    "y_train = pd.DataFrame(df, columns = ['AIL'])\n",
    "y_train = y_train.values\n",
    "X_train = pd.DataFrame(df, columns = column_list)\n",
    "X_train = X_train.values\n",
    "\n",
    "'''\n",
    "mae loss: \n",
    "'colsample_bytree': 0.9109339305529397, 'gamma': 0.6461068249891915, \n",
    "'max_depth': 3.0, 'min_child_weight': 5.0, \n",
    "'n_estimators': 717.5962834481896, 'reg_alpha': 2.0,\n",
    "'reg_lambda': 0.8878703412755587}\n",
    "'''\n",
    "'''\n",
    "huber_loss:\n",
    "'colsample_bytree': 0.7992205992647909, 'gamma': 0.5783448371612743, \n",
    "'max_depth': 3.0, 'min_child_weight': 2.0, \n",
    "'n_estimators': 739.331766781355, 'reg_alpha': 2.0, 'reg_lambda': 0.7732711356862325\n",
    "\n",
    "'''\n",
    "\n",
    "'''\n",
    "mape loss:\n",
    "{'colsample_bytree': 0.871652215617033, 'gamma': 0.5481113602181227, \n",
    "'max_depth': 3.0, 'min_child_weight': 6.0, 'n_estimators': 295.0234024637998,\n",
    "'reg_alpha': 0.0, 'reg_lambda': 0.6831208600800968}\n",
    "'''\n",
    "\n",
    "model   = XGBRegressor(colsample_bytree = 0.871652215617033, \n",
    "                       gamma            = 0.5481113602181227, \n",
    "                       max_depth        = 3, \n",
    "                       min_child_weight = 6, \n",
    "                       n_estimators     = 295, \n",
    "                       reg_alpha        = 0, \n",
    "                       reg_lambda       = 0.68312086)\n",
    "\n",
    "model.fit(X_train,y_train)\n",
    "preds = model.predict(X_train)\n",
    "print(np.mean(np.abs((y_train - preds) / y_train)) * 100)\n",
    "\n",
    "# save model to file\n",
    "model_name = 'model_generated_on_{}_{}_{}_v7_non_holiday_mape_loss.joblib.dat'.format(datetime.now().day, datetime.now().month, datetime.now().year)\n",
    "joblib.dump(model, filename = model_name)"
   ]
  },
  {
   "cell_type": "code",
   "execution_count": 7,
   "metadata": {},
   "outputs": [
    {
     "name": "stdout",
     "output_type": "stream",
     "text": [
      "\r",
      "  0%|          | 0/1 [00:00<?, ?trial/s, best loss=?]"
     ]
    },
    {
     "name": "stderr",
     "output_type": "stream",
     "text": [
      "/Users/abulhasanfahad/opt/anaconda3/envs/ml/lib/python3.7/site-packages/sklearn/ensemble/_gb.py:309: FutureWarning: The parameter 'presort' is deprecated and has no effect. It will be removed in v0.24. You can suppress this warning by not passing any value to the 'presort' parameter. We also recommend using HistGradientBoosting models instead.\n",
      "  FutureWarning)\n",
      "\n"
     ]
    },
    {
     "name": "stdout",
     "output_type": "stream",
     "text": [
      "100%|██████████| 1/1 [00:25<00:00, 25.07s/trial, best loss: 333.83103919971103]\n",
      " 50%|█████     | 1/2 [00:00<?, ?trial/s, best loss=?]"
     ]
    },
    {
     "name": "stderr",
     "output_type": "stream",
     "text": [
      "/Users/abulhasanfahad/opt/anaconda3/envs/ml/lib/python3.7/site-packages/sklearn/ensemble/_gb.py:309: FutureWarning: The parameter 'presort' is deprecated and has no effect. It will be removed in v0.24. You can suppress this warning by not passing any value to the 'presort' parameter. We also recommend using HistGradientBoosting models instead.\n",
      "  FutureWarning)\n",
      "\n"
     ]
    },
    {
     "name": "stdout",
     "output_type": "stream",
     "text": [
      "100%|██████████| 2/2 [00:00<00:00,  2.12trial/s, best loss: 333.83103919971103]\n",
      " 67%|██████▋   | 2/3 [00:00<?, ?trial/s, best loss=?]"
     ]
    },
    {
     "name": "stderr",
     "output_type": "stream",
     "text": [
      "/Users/abulhasanfahad/opt/anaconda3/envs/ml/lib/python3.7/site-packages/sklearn/ensemble/_gb.py:309: FutureWarning: The parameter 'presort' is deprecated and has no effect. It will be removed in v0.24. You can suppress this warning by not passing any value to the 'presort' parameter. We also recommend using HistGradientBoosting models instead.\n",
      "  FutureWarning)\n",
      "\n"
     ]
    },
    {
     "name": "stdout",
     "output_type": "stream",
     "text": [
      "100%|██████████| 3/3 [00:06<00:00,  2.11s/trial, best loss: 333.83103919971103]\n",
      " 75%|███████▌  | 3/4 [00:00<?, ?trial/s, best loss=?]"
     ]
    },
    {
     "name": "stderr",
     "output_type": "stream",
     "text": [
      "/Users/abulhasanfahad/opt/anaconda3/envs/ml/lib/python3.7/site-packages/sklearn/ensemble/_gb.py:309: FutureWarning: The parameter 'presort' is deprecated and has no effect. It will be removed in v0.24. You can suppress this warning by not passing any value to the 'presort' parameter. We also recommend using HistGradientBoosting models instead.\n",
      "  FutureWarning)\n",
      "\n"
     ]
    },
    {
     "name": "stdout",
     "output_type": "stream",
     "text": [
      "100%|██████████| 4/4 [00:09<00:00,  2.43s/trial, best loss: 202.5830185666464]\n",
      " 80%|████████  | 4/5 [00:00<?, ?trial/s, best loss=?]"
     ]
    },
    {
     "name": "stderr",
     "output_type": "stream",
     "text": [
      "/Users/abulhasanfahad/opt/anaconda3/envs/ml/lib/python3.7/site-packages/sklearn/ensemble/_gb.py:309: FutureWarning: The parameter 'presort' is deprecated and has no effect. It will be removed in v0.24. You can suppress this warning by not passing any value to the 'presort' parameter. We also recommend using HistGradientBoosting models instead.\n",
      "  FutureWarning)\n",
      "\n"
     ]
    },
    {
     "name": "stdout",
     "output_type": "stream",
     "text": [
      "100%|██████████| 5/5 [00:00<00:00, 13.40trial/s, best loss: 202.5830185666464]\n",
      " 83%|████████▎ | 5/6 [00:00<?, ?trial/s, best loss=?]"
     ]
    },
    {
     "name": "stderr",
     "output_type": "stream",
     "text": [
      "/Users/abulhasanfahad/opt/anaconda3/envs/ml/lib/python3.7/site-packages/sklearn/ensemble/_gb.py:309: FutureWarning: The parameter 'presort' is deprecated and has no effect. It will be removed in v0.24. You can suppress this warning by not passing any value to the 'presort' parameter. We also recommend using HistGradientBoosting models instead.\n",
      "  FutureWarning)\n",
      "\n"
     ]
    },
    {
     "name": "stdout",
     "output_type": "stream",
     "text": [
      "100%|██████████| 6/6 [00:19<00:00,  3.30s/trial, best loss: 202.5830185666464]\n",
      " 86%|████████▌ | 6/7 [00:00<?, ?trial/s, best loss=?]"
     ]
    },
    {
     "name": "stderr",
     "output_type": "stream",
     "text": [
      "/Users/abulhasanfahad/opt/anaconda3/envs/ml/lib/python3.7/site-packages/sklearn/ensemble/_gb.py:309: FutureWarning: The parameter 'presort' is deprecated and has no effect. It will be removed in v0.24. You can suppress this warning by not passing any value to the 'presort' parameter. We also recommend using HistGradientBoosting models instead.\n",
      "  FutureWarning)\n",
      "\n"
     ]
    },
    {
     "name": "stdout",
     "output_type": "stream",
     "text": [
      "100%|██████████| 7/7 [00:09<00:00,  1.39s/trial, best loss: 141.01354740467085]\n",
      " 88%|████████▊ | 7/8 [00:00<?, ?trial/s, best loss=?]"
     ]
    },
    {
     "name": "stderr",
     "output_type": "stream",
     "text": [
      "/Users/abulhasanfahad/opt/anaconda3/envs/ml/lib/python3.7/site-packages/sklearn/ensemble/_gb.py:309: FutureWarning: The parameter 'presort' is deprecated and has no effect. It will be removed in v0.24. You can suppress this warning by not passing any value to the 'presort' parameter. We also recommend using HistGradientBoosting models instead.\n",
      "  FutureWarning)\n",
      "\n"
     ]
    },
    {
     "name": "stdout",
     "output_type": "stream",
     "text": [
      "100%|██████████| 8/8 [00:30<00:00,  3.75s/trial, best loss: 141.01354740467085]\n",
      " 89%|████████▉ | 8/9 [00:00<?, ?trial/s, best loss=?]"
     ]
    },
    {
     "name": "stderr",
     "output_type": "stream",
     "text": [
      "/Users/abulhasanfahad/opt/anaconda3/envs/ml/lib/python3.7/site-packages/sklearn/ensemble/_gb.py:309: FutureWarning: The parameter 'presort' is deprecated and has no effect. It will be removed in v0.24. You can suppress this warning by not passing any value to the 'presort' parameter. We also recommend using HistGradientBoosting models instead.\n",
      "  FutureWarning)\n",
      "\n"
     ]
    },
    {
     "name": "stdout",
     "output_type": "stream",
     "text": [
      "100%|██████████| 9/9 [00:06<00:00,  1.40trial/s, best loss: 141.01354740467085]\n",
      " 90%|█████████ | 9/10 [00:00<?, ?trial/s, best loss=?]"
     ]
    },
    {
     "name": "stderr",
     "output_type": "stream",
     "text": [
      "/Users/abulhasanfahad/opt/anaconda3/envs/ml/lib/python3.7/site-packages/sklearn/ensemble/_gb.py:309: FutureWarning: The parameter 'presort' is deprecated and has no effect. It will be removed in v0.24. You can suppress this warning by not passing any value to the 'presort' parameter. We also recommend using HistGradientBoosting models instead.\n",
      "  FutureWarning)\n",
      "\n"
     ]
    },
    {
     "name": "stdout",
     "output_type": "stream",
     "text": [
      "100%|██████████| 10/10 [00:30<00:00,  3.00s/trial, best loss: 141.01354740467085]\n",
      " 91%|█████████ | 10/11 [00:00<?, ?trial/s, best loss=?]"
     ]
    },
    {
     "name": "stderr",
     "output_type": "stream",
     "text": [
      "/Users/abulhasanfahad/opt/anaconda3/envs/ml/lib/python3.7/site-packages/sklearn/ensemble/_gb.py:309: FutureWarning: The parameter 'presort' is deprecated and has no effect. It will be removed in v0.24. You can suppress this warning by not passing any value to the 'presort' parameter. We also recommend using HistGradientBoosting models instead.\n",
      "  FutureWarning)\n",
      "\n"
     ]
    },
    {
     "name": "stdout",
     "output_type": "stream",
     "text": [
      "100%|██████████| 11/11 [00:30<00:00,  2.73s/trial, best loss: 141.01354740467085]\n",
      " 92%|█████████▏| 11/12 [00:00<?, ?trial/s, best loss=?]"
     ]
    },
    {
     "name": "stderr",
     "output_type": "stream",
     "text": [
      "/Users/abulhasanfahad/opt/anaconda3/envs/ml/lib/python3.7/site-packages/sklearn/ensemble/_gb.py:309: FutureWarning: The parameter 'presort' is deprecated and has no effect. It will be removed in v0.24. You can suppress this warning by not passing any value to the 'presort' parameter. We also recommend using HistGradientBoosting models instead.\n",
      "  FutureWarning)\n",
      "\n"
     ]
    },
    {
     "name": "stdout",
     "output_type": "stream",
     "text": [
      "100%|██████████| 12/12 [00:00<00:00, 72.94trial/s, best loss: 141.01354740467085]\n",
      " 92%|█████████▏| 12/13 [00:00<?, ?trial/s, best loss=?]"
     ]
    },
    {
     "name": "stderr",
     "output_type": "stream",
     "text": [
      "/Users/abulhasanfahad/opt/anaconda3/envs/ml/lib/python3.7/site-packages/sklearn/ensemble/_gb.py:309: FutureWarning: The parameter 'presort' is deprecated and has no effect. It will be removed in v0.24. You can suppress this warning by not passing any value to the 'presort' parameter. We also recommend using HistGradientBoosting models instead.\n",
      "  FutureWarning)\n",
      "\n"
     ]
    },
    {
     "name": "stdout",
     "output_type": "stream",
     "text": [
      "100%|██████████| 13/13 [00:06<00:00,  1.99trial/s, best loss: 116.76461378257811]\n",
      " 93%|█████████▎| 13/14 [00:00<?, ?trial/s, best loss=?]"
     ]
    },
    {
     "name": "stderr",
     "output_type": "stream",
     "text": [
      "/Users/abulhasanfahad/opt/anaconda3/envs/ml/lib/python3.7/site-packages/sklearn/ensemble/_gb.py:309: FutureWarning: The parameter 'presort' is deprecated and has no effect. It will be removed in v0.24. You can suppress this warning by not passing any value to the 'presort' parameter. We also recommend using HistGradientBoosting models instead.\n",
      "  FutureWarning)\n",
      "\n"
     ]
    },
    {
     "name": "stdout",
     "output_type": "stream",
     "text": [
      "100%|██████████| 14/14 [00:30<00:00,  2.15s/trial, best loss: 116.76461378257811]\n",
      " 93%|█████████▎| 14/15 [00:00<?, ?trial/s, best loss=?]"
     ]
    },
    {
     "name": "stderr",
     "output_type": "stream",
     "text": [
      "/Users/abulhasanfahad/opt/anaconda3/envs/ml/lib/python3.7/site-packages/sklearn/ensemble/_gb.py:309: FutureWarning: The parameter 'presort' is deprecated and has no effect. It will be removed in v0.24. You can suppress this warning by not passing any value to the 'presort' parameter. We also recommend using HistGradientBoosting models instead.\n",
      "  FutureWarning)\n",
      "\n"
     ]
    },
    {
     "name": "stdout",
     "output_type": "stream",
     "text": [
      "100%|██████████| 15/15 [00:01<00:00,  9.85trial/s, best loss: 116.76461378257811]\n",
      " 94%|█████████▍| 15/16 [00:00<?, ?trial/s, best loss=?]"
     ]
    },
    {
     "name": "stderr",
     "output_type": "stream",
     "text": [
      "/Users/abulhasanfahad/opt/anaconda3/envs/ml/lib/python3.7/site-packages/sklearn/ensemble/_gb.py:309: FutureWarning: The parameter 'presort' is deprecated and has no effect. It will be removed in v0.24. You can suppress this warning by not passing any value to the 'presort' parameter. We also recommend using HistGradientBoosting models instead.\n",
      "  FutureWarning)\n",
      "\n"
     ]
    },
    {
     "name": "stdout",
     "output_type": "stream",
     "text": [
      "100%|██████████| 16/16 [00:03<00:00,  4.84trial/s, best loss: 116.76461378257811]\n",
      " 94%|█████████▍| 16/17 [00:00<?, ?trial/s, best loss=?]"
     ]
    },
    {
     "name": "stderr",
     "output_type": "stream",
     "text": [
      "/Users/abulhasanfahad/opt/anaconda3/envs/ml/lib/python3.7/site-packages/sklearn/ensemble/_gb.py:309: FutureWarning: The parameter 'presort' is deprecated and has no effect. It will be removed in v0.24. You can suppress this warning by not passing any value to the 'presort' parameter. We also recommend using HistGradientBoosting models instead.\n",
      "  FutureWarning)\n",
      "\n"
     ]
    },
    {
     "name": "stdout",
     "output_type": "stream",
     "text": [
      "100%|██████████| 17/17 [00:01<00:00, 13.97trial/s, best loss: 116.76461378257811]\n",
      " 94%|█████████▍| 17/18 [00:00<?, ?trial/s, best loss=?]"
     ]
    },
    {
     "name": "stderr",
     "output_type": "stream",
     "text": [
      "/Users/abulhasanfahad/opt/anaconda3/envs/ml/lib/python3.7/site-packages/sklearn/ensemble/_gb.py:309: FutureWarning: The parameter 'presort' is deprecated and has no effect. It will be removed in v0.24. You can suppress this warning by not passing any value to the 'presort' parameter. We also recommend using HistGradientBoosting models instead.\n",
      "  FutureWarning)\n",
      "\n"
     ]
    },
    {
     "name": "stdout",
     "output_type": "stream",
     "text": [
      "100%|██████████| 18/18 [00:11<00:00,  1.53trial/s, best loss: 116.76461378257811]\n",
      " 95%|█████████▍| 18/19 [00:00<?, ?trial/s, best loss=?]"
     ]
    },
    {
     "name": "stderr",
     "output_type": "stream",
     "text": [
      "/Users/abulhasanfahad/opt/anaconda3/envs/ml/lib/python3.7/site-packages/sklearn/ensemble/_gb.py:309: FutureWarning: The parameter 'presort' is deprecated and has no effect. It will be removed in v0.24. You can suppress this warning by not passing any value to the 'presort' parameter. We also recommend using HistGradientBoosting models instead.\n",
      "  FutureWarning)\n",
      "\n"
     ]
    },
    {
     "name": "stdout",
     "output_type": "stream",
     "text": [
      "100%|██████████| 19/19 [00:13<00:00,  1.44trial/s, best loss: 57.0328007954641]\n",
      " 95%|█████████▌| 19/20 [00:00<?, ?trial/s, best loss=?]"
     ]
    },
    {
     "name": "stderr",
     "output_type": "stream",
     "text": [
      "/Users/abulhasanfahad/opt/anaconda3/envs/ml/lib/python3.7/site-packages/sklearn/ensemble/_gb.py:309: FutureWarning: The parameter 'presort' is deprecated and has no effect. It will be removed in v0.24. You can suppress this warning by not passing any value to the 'presort' parameter. We also recommend using HistGradientBoosting models instead.\n",
      "  FutureWarning)\n",
      "\n"
     ]
    },
    {
     "name": "stdout",
     "output_type": "stream",
     "text": [
      "100%|██████████| 20/20 [00:30<00:00,  1.50s/trial, best loss: 57.0328007954641]\n",
      " 95%|█████████▌| 20/21 [00:00<?, ?trial/s, best loss=?]"
     ]
    },
    {
     "name": "stderr",
     "output_type": "stream",
     "text": [
      "/Users/abulhasanfahad/opt/anaconda3/envs/ml/lib/python3.7/site-packages/sklearn/ensemble/_gb.py:309: FutureWarning: The parameter 'presort' is deprecated and has no effect. It will be removed in v0.24. You can suppress this warning by not passing any value to the 'presort' parameter. We also recommend using HistGradientBoosting models instead.\n",
      "  FutureWarning)\n",
      "\n"
     ]
    },
    {
     "name": "stdout",
     "output_type": "stream",
     "text": [
      "100%|██████████| 21/21 [00:01<00:00, 18.90trial/s, best loss: 57.0328007954641]\n",
      " 95%|█████████▌| 21/22 [00:00<?, ?trial/s, best loss=?]"
     ]
    },
    {
     "name": "stderr",
     "output_type": "stream",
     "text": [
      "/Users/abulhasanfahad/opt/anaconda3/envs/ml/lib/python3.7/site-packages/sklearn/ensemble/_gb.py:309: FutureWarning: The parameter 'presort' is deprecated and has no effect. It will be removed in v0.24. You can suppress this warning by not passing any value to the 'presort' parameter. We also recommend using HistGradientBoosting models instead.\n",
      "  FutureWarning)\n",
      "\n"
     ]
    },
    {
     "name": "stdout",
     "output_type": "stream",
     "text": [
      "100%|██████████| 22/22 [00:01<00:00, 17.06trial/s, best loss: 57.0328007954641]\n",
      " 96%|█████████▌| 22/23 [00:00<?, ?trial/s, best loss=?]"
     ]
    },
    {
     "name": "stderr",
     "output_type": "stream",
     "text": [
      "/Users/abulhasanfahad/opt/anaconda3/envs/ml/lib/python3.7/site-packages/sklearn/ensemble/_gb.py:309: FutureWarning: The parameter 'presort' is deprecated and has no effect. It will be removed in v0.24. You can suppress this warning by not passing any value to the 'presort' parameter. We also recommend using HistGradientBoosting models instead.\n",
      "  FutureWarning)\n",
      "\n"
     ]
    },
    {
     "name": "stdout",
     "output_type": "stream",
     "text": [
      "100%|██████████| 23/23 [00:00<00:00, 42.56trial/s, best loss: 57.0328007954641]\n",
      " 96%|█████████▌| 23/24 [00:00<?, ?trial/s, best loss=?]"
     ]
    },
    {
     "name": "stderr",
     "output_type": "stream",
     "text": [
      "/Users/abulhasanfahad/opt/anaconda3/envs/ml/lib/python3.7/site-packages/sklearn/ensemble/_gb.py:309: FutureWarning: The parameter 'presort' is deprecated and has no effect. It will be removed in v0.24. You can suppress this warning by not passing any value to the 'presort' parameter. We also recommend using HistGradientBoosting models instead.\n",
      "  FutureWarning)\n",
      "\n"
     ]
    },
    {
     "name": "stdout",
     "output_type": "stream",
     "text": [
      "100%|██████████| 24/24 [00:01<00:00, 22.28trial/s, best loss: 57.0328007954641]\n",
      " 96%|█████████▌| 24/25 [00:00<?, ?trial/s, best loss=?]"
     ]
    },
    {
     "name": "stderr",
     "output_type": "stream",
     "text": [
      "/Users/abulhasanfahad/opt/anaconda3/envs/ml/lib/python3.7/site-packages/sklearn/ensemble/_gb.py:309: FutureWarning: The parameter 'presort' is deprecated and has no effect. It will be removed in v0.24. You can suppress this warning by not passing any value to the 'presort' parameter. We also recommend using HistGradientBoosting models instead.\n",
      "  FutureWarning)\n",
      "\n"
     ]
    },
    {
     "name": "stdout",
     "output_type": "stream",
     "text": [
      "100%|██████████| 25/25 [00:15<00:00,  1.62trial/s, best loss: 57.0328007954641]\n",
      " 96%|█████████▌| 25/26 [00:00<?, ?trial/s, best loss=?]"
     ]
    },
    {
     "name": "stderr",
     "output_type": "stream",
     "text": [
      "/Users/abulhasanfahad/opt/anaconda3/envs/ml/lib/python3.7/site-packages/sklearn/ensemble/_gb.py:309: FutureWarning: The parameter 'presort' is deprecated and has no effect. It will be removed in v0.24. You can suppress this warning by not passing any value to the 'presort' parameter. We also recommend using HistGradientBoosting models instead.\n",
      "  FutureWarning)\n",
      "\n"
     ]
    },
    {
     "name": "stdout",
     "output_type": "stream",
     "text": [
      "100%|██████████| 26/26 [00:00<00:00, 47.83trial/s, best loss: 57.0328007954641]\n",
      " 96%|█████████▋| 26/27 [00:00<?, ?trial/s, best loss=?]"
     ]
    },
    {
     "name": "stderr",
     "output_type": "stream",
     "text": [
      "/Users/abulhasanfahad/opt/anaconda3/envs/ml/lib/python3.7/site-packages/sklearn/ensemble/_gb.py:309: FutureWarning: The parameter 'presort' is deprecated and has no effect. It will be removed in v0.24. You can suppress this warning by not passing any value to the 'presort' parameter. We also recommend using HistGradientBoosting models instead.\n",
      "  FutureWarning)\n",
      "\n"
     ]
    },
    {
     "name": "stdout",
     "output_type": "stream",
     "text": [
      "100%|██████████| 27/27 [00:03<00:00,  8.64trial/s, best loss: 57.0328007954641]\n",
      " 96%|█████████▋| 27/28 [00:00<?, ?trial/s, best loss=?]"
     ]
    },
    {
     "name": "stderr",
     "output_type": "stream",
     "text": [
      "/Users/abulhasanfahad/opt/anaconda3/envs/ml/lib/python3.7/site-packages/sklearn/ensemble/_gb.py:309: FutureWarning: The parameter 'presort' is deprecated and has no effect. It will be removed in v0.24. You can suppress this warning by not passing any value to the 'presort' parameter. We also recommend using HistGradientBoosting models instead.\n",
      "  FutureWarning)\n",
      "\n"
     ]
    },
    {
     "name": "stdout",
     "output_type": "stream",
     "text": [
      "100%|██████████| 28/28 [00:02<00:00,  9.95trial/s, best loss: 57.0328007954641]\n",
      " 97%|█████████▋| 28/29 [00:00<?, ?trial/s, best loss=?]"
     ]
    },
    {
     "name": "stderr",
     "output_type": "stream",
     "text": [
      "/Users/abulhasanfahad/opt/anaconda3/envs/ml/lib/python3.7/site-packages/sklearn/ensemble/_gb.py:309: FutureWarning: The parameter 'presort' is deprecated and has no effect. It will be removed in v0.24. You can suppress this warning by not passing any value to the 'presort' parameter. We also recommend using HistGradientBoosting models instead.\n",
      "  FutureWarning)\n",
      "\n"
     ]
    },
    {
     "name": "stdout",
     "output_type": "stream",
     "text": [
      "100%|██████████| 29/29 [00:03<00:00,  8.06trial/s, best loss: 57.0328007954641]\n",
      " 97%|█████████▋| 29/30 [00:00<?, ?trial/s, best loss=?]"
     ]
    },
    {
     "name": "stderr",
     "output_type": "stream",
     "text": [
      "/Users/abulhasanfahad/opt/anaconda3/envs/ml/lib/python3.7/site-packages/sklearn/ensemble/_gb.py:309: FutureWarning: The parameter 'presort' is deprecated and has no effect. It will be removed in v0.24. You can suppress this warning by not passing any value to the 'presort' parameter. We also recommend using HistGradientBoosting models instead.\n",
      "  FutureWarning)\n",
      "\n"
     ]
    },
    {
     "name": "stdout",
     "output_type": "stream",
     "text": [
      "100%|██████████| 30/30 [00:01<00:00, 20.76trial/s, best loss: 57.0328007954641]\n",
      " 97%|█████████▋| 30/31 [00:00<?, ?trial/s, best loss=?]"
     ]
    },
    {
     "name": "stderr",
     "output_type": "stream",
     "text": [
      "/Users/abulhasanfahad/opt/anaconda3/envs/ml/lib/python3.7/site-packages/sklearn/ensemble/_gb.py:309: FutureWarning: The parameter 'presort' is deprecated and has no effect. It will be removed in v0.24. You can suppress this warning by not passing any value to the 'presort' parameter. We also recommend using HistGradientBoosting models instead.\n",
      "  FutureWarning)\n",
      "\n"
     ]
    },
    {
     "name": "stdout",
     "output_type": "stream",
     "text": [
      "100%|██████████| 31/31 [00:01<00:00, 17.31trial/s, best loss: 57.0328007954641]\n",
      " 97%|█████████▋| 31/32 [00:00<?, ?trial/s, best loss=?]"
     ]
    },
    {
     "name": "stderr",
     "output_type": "stream",
     "text": [
      "/Users/abulhasanfahad/opt/anaconda3/envs/ml/lib/python3.7/site-packages/sklearn/ensemble/_gb.py:309: FutureWarning: The parameter 'presort' is deprecated and has no effect. It will be removed in v0.24. You can suppress this warning by not passing any value to the 'presort' parameter. We also recommend using HistGradientBoosting models instead.\n",
      "  FutureWarning)\n",
      "\n"
     ]
    },
    {
     "name": "stdout",
     "output_type": "stream",
     "text": [
      "100%|██████████| 32/32 [00:06<00:00,  5.14trial/s, best loss: 57.0328007954641]\n",
      " 97%|█████████▋| 32/33 [00:00<?, ?trial/s, best loss=?]"
     ]
    },
    {
     "name": "stderr",
     "output_type": "stream",
     "text": [
      "/Users/abulhasanfahad/opt/anaconda3/envs/ml/lib/python3.7/site-packages/sklearn/ensemble/_gb.py:309: FutureWarning: The parameter 'presort' is deprecated and has no effect. It will be removed in v0.24. You can suppress this warning by not passing any value to the 'presort' parameter. We also recommend using HistGradientBoosting models instead.\n",
      "  FutureWarning)\n",
      "\n"
     ]
    },
    {
     "name": "stdout",
     "output_type": "stream",
     "text": [
      "100%|██████████| 33/33 [00:30<00:00,  1.10trial/s, best loss: 57.0328007954641]\n",
      " 97%|█████████▋| 33/34 [00:00<?, ?trial/s, best loss=?]"
     ]
    },
    {
     "name": "stderr",
     "output_type": "stream",
     "text": [
      "/Users/abulhasanfahad/opt/anaconda3/envs/ml/lib/python3.7/site-packages/sklearn/ensemble/_gb.py:309: FutureWarning: The parameter 'presort' is deprecated and has no effect. It will be removed in v0.24. You can suppress this warning by not passing any value to the 'presort' parameter. We also recommend using HistGradientBoosting models instead.\n",
      "  FutureWarning)\n",
      "\n"
     ]
    },
    {
     "name": "stdout",
     "output_type": "stream",
     "text": [
      "100%|██████████| 34/34 [00:10<00:00,  3.39trial/s, best loss: 57.0328007954641]\n",
      " 97%|█████████▋| 34/35 [00:00<?, ?trial/s, best loss=?]"
     ]
    },
    {
     "name": "stderr",
     "output_type": "stream",
     "text": [
      "/Users/abulhasanfahad/opt/anaconda3/envs/ml/lib/python3.7/site-packages/sklearn/ensemble/_gb.py:309: FutureWarning: The parameter 'presort' is deprecated and has no effect. It will be removed in v0.24. You can suppress this warning by not passing any value to the 'presort' parameter. We also recommend using HistGradientBoosting models instead.\n",
      "  FutureWarning)\n",
      "\n"
     ]
    },
    {
     "name": "stdout",
     "output_type": "stream",
     "text": [
      "100%|██████████| 35/35 [00:01<00:00, 29.04trial/s, best loss: 57.0328007954641]\n",
      " 97%|█████████▋| 35/36 [00:00<?, ?trial/s, best loss=?]"
     ]
    },
    {
     "name": "stderr",
     "output_type": "stream",
     "text": [
      "/Users/abulhasanfahad/opt/anaconda3/envs/ml/lib/python3.7/site-packages/sklearn/ensemble/_gb.py:309: FutureWarning: The parameter 'presort' is deprecated and has no effect. It will be removed in v0.24. You can suppress this warning by not passing any value to the 'presort' parameter. We also recommend using HistGradientBoosting models instead.\n",
      "  FutureWarning)\n",
      "\n"
     ]
    },
    {
     "name": "stdout",
     "output_type": "stream",
     "text": [
      "100%|██████████| 36/36 [00:01<00:00, 25.91trial/s, best loss: 57.0328007954641]\n",
      " 97%|█████████▋| 36/37 [00:00<?, ?trial/s, best loss=?]"
     ]
    },
    {
     "name": "stderr",
     "output_type": "stream",
     "text": [
      "/Users/abulhasanfahad/opt/anaconda3/envs/ml/lib/python3.7/site-packages/sklearn/ensemble/_gb.py:309: FutureWarning: The parameter 'presort' is deprecated and has no effect. It will be removed in v0.24. You can suppress this warning by not passing any value to the 'presort' parameter. We also recommend using HistGradientBoosting models instead.\n",
      "  FutureWarning)\n",
      "\n"
     ]
    },
    {
     "name": "stdout",
     "output_type": "stream",
     "text": [
      "100%|██████████| 37/37 [00:30<00:00,  1.23trial/s, best loss: 57.0328007954641]\n",
      " 97%|█████████▋| 37/38 [00:00<?, ?trial/s, best loss=?]"
     ]
    },
    {
     "name": "stderr",
     "output_type": "stream",
     "text": [
      "/Users/abulhasanfahad/opt/anaconda3/envs/ml/lib/python3.7/site-packages/sklearn/ensemble/_gb.py:309: FutureWarning: The parameter 'presort' is deprecated and has no effect. It will be removed in v0.24. You can suppress this warning by not passing any value to the 'presort' parameter. We also recommend using HistGradientBoosting models instead.\n",
      "  FutureWarning)\n",
      "\n"
     ]
    },
    {
     "name": "stdout",
     "output_type": "stream",
     "text": [
      "100%|██████████| 38/38 [00:10<00:00,  3.76trial/s, best loss: 57.0328007954641]\n",
      " 97%|█████████▋| 38/39 [00:00<?, ?trial/s, best loss=?]"
     ]
    },
    {
     "name": "stderr",
     "output_type": "stream",
     "text": [
      "/Users/abulhasanfahad/opt/anaconda3/envs/ml/lib/python3.7/site-packages/sklearn/ensemble/_gb.py:309: FutureWarning: The parameter 'presort' is deprecated and has no effect. It will be removed in v0.24. You can suppress this warning by not passing any value to the 'presort' parameter. We also recommend using HistGradientBoosting models instead.\n",
      "  FutureWarning)\n",
      "\n"
     ]
    },
    {
     "name": "stdout",
     "output_type": "stream",
     "text": [
      "100%|██████████| 39/39 [00:01<00:00, 30.17trial/s, best loss: 57.0328007954641]\n",
      " 98%|█████████▊| 39/40 [00:00<?, ?trial/s, best loss=?]"
     ]
    },
    {
     "name": "stderr",
     "output_type": "stream",
     "text": [
      "/Users/abulhasanfahad/opt/anaconda3/envs/ml/lib/python3.7/site-packages/sklearn/ensemble/_gb.py:309: FutureWarning: The parameter 'presort' is deprecated and has no effect. It will be removed in v0.24. You can suppress this warning by not passing any value to the 'presort' parameter. We also recommend using HistGradientBoosting models instead.\n",
      "  FutureWarning)\n",
      "\n"
     ]
    },
    {
     "name": "stdout",
     "output_type": "stream",
     "text": [
      "100%|██████████| 40/40 [00:04<00:00,  9.62trial/s, best loss: 57.0328007954641]\n",
      " 98%|█████████▊| 40/41 [00:00<?, ?trial/s, best loss=?]"
     ]
    },
    {
     "name": "stderr",
     "output_type": "stream",
     "text": [
      "/Users/abulhasanfahad/opt/anaconda3/envs/ml/lib/python3.7/site-packages/sklearn/ensemble/_gb.py:309: FutureWarning: The parameter 'presort' is deprecated and has no effect. It will be removed in v0.24. You can suppress this warning by not passing any value to the 'presort' parameter. We also recommend using HistGradientBoosting models instead.\n",
      "  FutureWarning)\n",
      "\n"
     ]
    },
    {
     "name": "stdout",
     "output_type": "stream",
     "text": [
      "100%|██████████| 41/41 [00:01<00:00, 20.86trial/s, best loss: 57.0328007954641]\n",
      " 98%|█████████▊| 41/42 [00:00<?, ?trial/s, best loss=?]"
     ]
    },
    {
     "name": "stderr",
     "output_type": "stream",
     "text": [
      "/Users/abulhasanfahad/opt/anaconda3/envs/ml/lib/python3.7/site-packages/sklearn/ensemble/_gb.py:309: FutureWarning: The parameter 'presort' is deprecated and has no effect. It will be removed in v0.24. You can suppress this warning by not passing any value to the 'presort' parameter. We also recommend using HistGradientBoosting models instead.\n",
      "  FutureWarning)\n",
      "\n"
     ]
    },
    {
     "name": "stdout",
     "output_type": "stream",
     "text": [
      "100%|██████████| 42/42 [00:00<00:00, 50.96trial/s, best loss: 57.0328007954641]\n",
      " 98%|█████████▊| 42/43 [00:00<?, ?trial/s, best loss=?]"
     ]
    },
    {
     "name": "stderr",
     "output_type": "stream",
     "text": [
      "/Users/abulhasanfahad/opt/anaconda3/envs/ml/lib/python3.7/site-packages/sklearn/ensemble/_gb.py:309: FutureWarning: The parameter 'presort' is deprecated and has no effect. It will be removed in v0.24. You can suppress this warning by not passing any value to the 'presort' parameter. We also recommend using HistGradientBoosting models instead.\n",
      "  FutureWarning)\n",
      "\n"
     ]
    },
    {
     "name": "stdout",
     "output_type": "stream",
     "text": [
      "100%|██████████| 43/43 [00:30<00:00,  1.43trial/s, best loss: 57.0328007954641]\n",
      " 98%|█████████▊| 43/44 [00:00<?, ?trial/s, best loss=?]"
     ]
    },
    {
     "name": "stderr",
     "output_type": "stream",
     "text": [
      "/Users/abulhasanfahad/opt/anaconda3/envs/ml/lib/python3.7/site-packages/sklearn/ensemble/_gb.py:309: FutureWarning: The parameter 'presort' is deprecated and has no effect. It will be removed in v0.24. You can suppress this warning by not passing any value to the 'presort' parameter. We also recommend using HistGradientBoosting models instead.\n",
      "  FutureWarning)\n",
      "\n"
     ]
    },
    {
     "name": "stdout",
     "output_type": "stream",
     "text": [
      "100%|██████████| 44/44 [00:00<00:00, 83.87trial/s, best loss: 57.0328007954641]\n",
      " 98%|█████████▊| 44/45 [00:00<?, ?trial/s, best loss=?]"
     ]
    },
    {
     "name": "stderr",
     "output_type": "stream",
     "text": [
      "/Users/abulhasanfahad/opt/anaconda3/envs/ml/lib/python3.7/site-packages/sklearn/ensemble/_gb.py:309: FutureWarning: The parameter 'presort' is deprecated and has no effect. It will be removed in v0.24. You can suppress this warning by not passing any value to the 'presort' parameter. We also recommend using HistGradientBoosting models instead.\n",
      "  FutureWarning)\n",
      "\n"
     ]
    },
    {
     "name": "stdout",
     "output_type": "stream",
     "text": [
      "100%|██████████| 45/45 [00:21<00:00,  2.11trial/s, best loss: 57.0328007954641]\n",
      " 98%|█████████▊| 45/46 [00:00<?, ?trial/s, best loss=?]"
     ]
    },
    {
     "name": "stderr",
     "output_type": "stream",
     "text": [
      "/Users/abulhasanfahad/opt/anaconda3/envs/ml/lib/python3.7/site-packages/sklearn/ensemble/_gb.py:309: FutureWarning: The parameter 'presort' is deprecated and has no effect. It will be removed in v0.24. You can suppress this warning by not passing any value to the 'presort' parameter. We also recommend using HistGradientBoosting models instead.\n",
      "  FutureWarning)\n",
      "\n"
     ]
    },
    {
     "name": "stdout",
     "output_type": "stream",
     "text": [
      "100%|██████████| 46/46 [00:28<00:00,  1.60trial/s, best loss: 57.0328007954641]\n",
      " 98%|█████████▊| 46/47 [00:00<?, ?trial/s, best loss=?]"
     ]
    },
    {
     "name": "stderr",
     "output_type": "stream",
     "text": [
      "/Users/abulhasanfahad/opt/anaconda3/envs/ml/lib/python3.7/site-packages/sklearn/ensemble/_gb.py:309: FutureWarning: The parameter 'presort' is deprecated and has no effect. It will be removed in v0.24. You can suppress this warning by not passing any value to the 'presort' parameter. We also recommend using HistGradientBoosting models instead.\n",
      "  FutureWarning)\n",
      "\n"
     ]
    },
    {
     "name": "stdout",
     "output_type": "stream",
     "text": [
      "100%|██████████| 47/47 [00:02<00:00, 15.68trial/s, best loss: 57.0328007954641]\n",
      " 98%|█████████▊| 47/48 [00:00<?, ?trial/s, best loss=?]"
     ]
    },
    {
     "name": "stderr",
     "output_type": "stream",
     "text": [
      "/Users/abulhasanfahad/opt/anaconda3/envs/ml/lib/python3.7/site-packages/sklearn/ensemble/_gb.py:309: FutureWarning: The parameter 'presort' is deprecated and has no effect. It will be removed in v0.24. You can suppress this warning by not passing any value to the 'presort' parameter. We also recommend using HistGradientBoosting models instead.\n",
      "  FutureWarning)\n",
      "\n"
     ]
    },
    {
     "name": "stdout",
     "output_type": "stream",
     "text": [
      "100%|██████████| 48/48 [00:00<00:00, 122.08trial/s, best loss: 57.0328007954641]\n",
      " 98%|█████████▊| 48/49 [00:00<?, ?trial/s, best loss=?]"
     ]
    },
    {
     "name": "stderr",
     "output_type": "stream",
     "text": [
      "/Users/abulhasanfahad/opt/anaconda3/envs/ml/lib/python3.7/site-packages/sklearn/ensemble/_gb.py:309: FutureWarning: The parameter 'presort' is deprecated and has no effect. It will be removed in v0.24. You can suppress this warning by not passing any value to the 'presort' parameter. We also recommend using HistGradientBoosting models instead.\n",
      "  FutureWarning)\n",
      "\n"
     ]
    },
    {
     "name": "stdout",
     "output_type": "stream",
     "text": [
      "100%|██████████| 49/49 [00:30<00:00,  1.63trial/s, best loss: 57.0328007954641]\n",
      " 98%|█████████▊| 49/50 [00:00<?, ?trial/s, best loss=?]"
     ]
    },
    {
     "name": "stderr",
     "output_type": "stream",
     "text": [
      "/Users/abulhasanfahad/opt/anaconda3/envs/ml/lib/python3.7/site-packages/sklearn/ensemble/_gb.py:309: FutureWarning: The parameter 'presort' is deprecated and has no effect. It will be removed in v0.24. You can suppress this warning by not passing any value to the 'presort' parameter. We also recommend using HistGradientBoosting models instead.\n",
      "  FutureWarning)\n",
      "\n"
     ]
    },
    {
     "name": "stdout",
     "output_type": "stream",
     "text": [
      "100%|██████████| 50/50 [00:04<00:00, 11.27trial/s, best loss: 57.0328007954641]\n"
     ]
    },
    {
     "name": "stderr",
     "output_type": "stream",
     "text": [
      "/Users/abulhasanfahad/opt/anaconda3/envs/ml/lib/python3.7/site-packages/sklearn/ensemble/_gb.py:309: FutureWarning: The parameter 'presort' is deprecated and has no effect. It will be removed in v0.24. You can suppress this warning by not passing any value to the 'presort' parameter. We also recommend using HistGradientBoosting models instead.\n",
      "  FutureWarning)\n"
     ]
    },
    {
     "name": "stdout",
     "output_type": "stream",
     "text": [
      "MAE: 0.991\n",
      "{'learner': GradientBoostingRegressor(learning_rate=0.32941608891734564, max_depth=None,\n",
      "                          n_estimators=45, presort='auto', random_state=3,\n",
      "                          subsample=0.7719952128201714), 'preprocs': (), 'ex_preprocs': ()}\n"
     ]
    }
   ],
   "source": [
    "import numpy as np\n",
    "\n",
    "from   xgboost import XGBRegressor\n",
    "#from sklearn.model_selection import TimeSeriesSplit\n",
    "#from   matplotlib import pyplot as plt\n",
    "#from   sklearn.model_selection import train_test_split\n",
    "#from   sklearn.preprocessing import MinMaxScaler\n",
    "import sklearn\n",
    "from   datetime import datetime\n",
    "import pickle\n",
    "import hyperopt\n",
    "from   hyperopt import fmin, tpe, hp, STATUS_OK, Trials\n",
    "from   sklearn.metrics import mean_squared_error, r2_score, mean_absolute_error\n",
    "from   hpsklearn import HyperoptEstimator, any_preprocessing, any_regressor\n",
    "from hpsklearn import gradient_boosting_regression\n",
    "\n",
    "from   hyperopt import tpe\n",
    "\n",
    "\n",
    "df = df.interpolate(method='nearest').ffill().bfill()\n",
    "#df.isnull().sum()\n",
    "\n",
    "\n",
    "\n",
    "\n",
    "#file_name   =  \"feature_v2.pkl\"\n",
    "#open_file   =  open(file_name, \"rb\")\n",
    "#loaded_list =  pickle.load(open_file)\n",
    "#open_file.close()\n",
    "\n",
    "df_hypopt       = df\n",
    "split_date      = '2020-01-01 00:00:00'\n",
    "df_hypopt_train = df_hypopt.loc[df_hypopt.Datetime < split_date].copy()\n",
    "df_hypopt_test  = df_hypopt.loc[df_hypopt.Datetime >= split_date].copy()\n",
    "\n",
    "y_train         = df_hypopt_train['AIL'].values\n",
    "y_test          = df_hypopt_test['AIL'].values\n",
    "X_train         = df_hypopt_train.drop(['Datetime', 'AIL', 'just_date'], axis = 1).values\n",
    "X_test          = df_hypopt_test.drop (['Datetime', 'AIL', 'just_date'], axis = 1).values\n",
    "\n",
    "\n",
    "# define search\n",
    "model = HyperoptEstimator(regressor     = gradient_boosting_regression('gbr'), \n",
    "                          preprocessing = any_preprocessing('pre'), \n",
    "                          loss_fn       = mean_absolute_error, \n",
    "                          algo          = tpe.suggest, \n",
    "                          max_evals     = 50, \n",
    "                          trial_timeout  = 30)\n",
    "# perform the search\n",
    "model.fit(X_train, y_train)\n",
    "# summarize performance\n",
    "mae = model.score(X_test, y_test)\n",
    "print(\"MAE: %.3f\" % mae)\n",
    "# summarize the best model\n",
    "print(model.best_model())"
   ]
  },
  {
   "cell_type": "code",
   "execution_count": null,
   "metadata": {},
   "outputs": [],
   "source": []
  }
 ],
 "metadata": {
  "kernelspec": {
   "display_name": "Python 3",
   "language": "python",
   "name": "python3"
  },
  "language_info": {
   "codemirror_mode": {
    "name": "ipython",
    "version": 3
   },
   "file_extension": ".py",
   "mimetype": "text/x-python",
   "name": "python",
   "nbconvert_exporter": "python",
   "pygments_lexer": "ipython3",
   "version": "3.7.7"
  }
 },
 "nbformat": 4,
 "nbformat_minor": 4
}
